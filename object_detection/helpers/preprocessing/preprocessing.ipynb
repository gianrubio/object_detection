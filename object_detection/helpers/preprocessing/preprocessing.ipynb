{
 "cells": [
  {
   "cell_type": "code",
   "execution_count": 79,
   "metadata": {},
   "outputs": [
    {
     "output_type": "stream",
     "name": "stdout",
     "text": [
      "env: PROJECT_ROOT_PATH=\"/Users/grubio/Downloads/image/multiple-image-detection/models/research/object_detection\"\n"
     ]
    }
   ],
   "source": [
    "%env PROJECT_ROOT_PATH=\"/Users/grubio/Downloads/image/multiple-image-detection/models/research/object_detection\"\n",
    "# !export PROJECT_ROOT_PATH=\"~object_detection\""
   ]
  },
  {
   "cell_type": "code",
   "execution_count": 80,
   "metadata": {},
   "outputs": [],
   "source": [
    "!rm -rf $PROJECT_ROOT_PATH/trainning/images/test \n",
    "!rm -rf $PROJECT_ROOT_PATH/trainning/images/train\n",
    "!rm -rf $PROJECT_ROOT_PATH/trainning/assets/\n",
    "!mkdir -p $PROJECT_ROOT_PATH/trainning/assets/"
   ]
  },
  {
   "cell_type": "code",
   "execution_count": 81,
   "metadata": {},
   "outputs": [],
   "source": [
    "!python $PROJECT_ROOT_PATH/helpers/preprocessing/partition_dataset.py -i $PROJECT_ROOT_PATH/trainning/images -r 0.15 -x"
   ]
  },
  {
   "cell_type": "code",
   "execution_count": 82,
   "metadata": {},
   "outputs": [
    {
     "output_type": "stream",
     "name": "stdout",
     "text": [
      "Successfully converted xml to csv /Users/grubio/Downloads/image/multiple-image-detection/models/research/object_detection/trainning/assets/test_labels.csv.\n"
     ]
    }
   ],
   "source": [
    "!python $PROJECT_ROOT_PATH/helpers/preprocessing/xml_to_csv.py -i $PROJECT_ROOT_PATH/trainning/images/test -o $PROJECT_ROOT_PATH/trainning/assets/test_labels.csv"
   ]
  },
  {
   "cell_type": "code",
   "execution_count": 83,
   "metadata": {},
   "outputs": [
    {
     "output_type": "stream",
     "name": "stdout",
     "text": [
      "Successfully converted xml to csv /Users/grubio/Downloads/image/multiple-image-detection/models/research/object_detection/trainning/assets/train_labels.csv.\n"
     ]
    }
   ],
   "source": [
    "!python $PROJECT_ROOT_PATH/helpers/preprocessing/xml_to_csv.py -i $PROJECT_ROOT_PATH/trainning/images/train -o $PROJECT_ROOT_PATH/trainning/assets/train_labels.csv"
   ]
  },
  {
   "cell_type": "code",
   "execution_count": 84,
   "metadata": {},
   "outputs": [
    {
     "output_type": "stream",
     "name": "stdout",
     "text": [
      "Successfully created the TFRecords: /Users/grubio/Downloads/image/multiple-image-detection/models/research/object_detection/trainning/assets/train.record\n"
     ]
    }
   ],
   "source": [
    "!python $PROJECT_ROOT_PATH/helpers/preprocessing/generate_tfrecord.py --image_dir=$PROJECT_ROOT_PATH/trainning/images/train --csv_input={PROJECT_ROOT_PATH}/trainning/assets/train_labels.csv  --output_path=$PROJECT_ROOT_PATH/trainning/assets/train.record"
   ]
  },
  {
   "cell_type": "code",
   "execution_count": 85,
   "metadata": {},
   "outputs": [
    {
     "output_type": "stream",
     "name": "stdout",
     "text": [
      "Successfully created the TFRecords: /Users/grubio/Downloads/image/multiple-image-detection/models/research/object_detection/trainning/assets/test.record\n"
     ]
    }
   ],
   "source": [
    "!python $PROJECT_ROOT_PATH/helpers/preprocessing/generate_tfrecord.py --image_dir=$PROJECT_ROOT_PATH/trainning/images/test --csv_input=$PROJECT_ROOT_PATH/trainning/assets/test_labels.csv  --output_path=$PROJECT_ROOT_PATH/trainning/assets/test.record"
   ]
  }
 ],
 "metadata": {
  "kernelspec": {
   "display_name": "Python 3",
   "language": "python",
   "name": "python3"
  },
  "language_info": {
   "codemirror_mode": {
    "name": "ipython",
    "version": 3
   },
   "file_extension": ".py",
   "mimetype": "text/x-python",
   "name": "python",
   "nbconvert_exporter": "python",
   "pygments_lexer": "ipython3",
   "version": "3.8.3-final"
  }
 },
 "nbformat": 4,
 "nbformat_minor": 4
}