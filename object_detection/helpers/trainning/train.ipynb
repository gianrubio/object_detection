{
 "cells": [
  {
   "cell_type": "code",
   "execution_count": 1,
   "metadata": {},
   "outputs": [
    {
     "output_type": "stream",
     "name": "stdout",
     "text": [
      "env: MODEL=ssd_resnet50_v1_fpn_640x640_coco17_tpu-8\nenv: PIPELINE_CONFIG_FILE=pipeline_ssd_resnet50_v1_fpn_640x640_coco17_tpu-8.config\nenv: EXPORT_DIR=17-jan-11-40\nenv: PROJECT_ROOT_PATH=/root/object_detection/object_detection/\n"
     ]
    }
   ],
   "source": [
    "# %env PROJECT_ROOT_PATH=/Users/grubio/Downloads/image/multiple-image-detection/models/research/object_detection/\n",
    "%env MODEL=ssd_resnet50_v1_fpn_640x640_coco17_tpu-8\n",
    "%env PIPELINE_CONFIG_FILE=pipeline_ssd_resnet50_v1_fpn_640x640_coco17_tpu-8.config\n",
    "%env EXPORT_DIR=17-jan-11-40\n",
    "%env PROJECT_ROOT_PATH=/root/object_detection/object_detection/\n",
    "# %env MODEL=ssd_resnet50_v1_fpn_640x640_coco17_tpu-8\n",
    "\n",
    "# %env MODEL=faster_rcnn_inception_resnet_v2_640x640_coco17_tpu-8\n",
    "# %env PIPELINE_CONFIG_FILE=pipeline_faster_rcnn_inception_resnet_v2_640x640_coco17_tpu-8.config\n"
   ]
  },
  {
   "cell_type": "code",
   "execution_count": 2,
   "metadata": {
    "collapsed": true
   },
   "outputs": [
    {
     "output_type": "execute_result",
     "data": {
      "text/plain": [
       "[name: \"/device:CPU:0\"\n",
       " device_type: \"CPU\"\n",
       " memory_limit: 268435456\n",
       " locality {\n",
       " }\n",
       " incarnation: 16358096140511168261]"
      ]
     },
     "metadata": {},
     "execution_count": 2
    }
   ],
   "source": [
    "from tensorflow.python.client import device_lib\n",
    "\n",
    "device_lib.list_local_devices()"
   ]
  },
  {
   "cell_type": "code",
   "execution_count": 3,
   "metadata": {
    "tags": []
   },
   "outputs": [
    {
     "output_type": "stream",
     "name": "stdout",
     "text": [
      "2021-01-17 10:02:52.904506: I tensorflow/compiler/jit/xla_cpu_device.cc:41] Not creating XLA devices, tf_xla_enable_xla_devices not set\n",
      "2021-01-17 10:02:52.905036: I tensorflow/core/platform/cpu_feature_guard.cc:142] This TensorFlow binary is optimized with oneAPI Deep Neural Network Library (oneDNN) to use the following CPU instructions in performance-critical operations:  AVX2 FMA\n",
      "To enable them in other operations, rebuild TensorFlow with the appropriate compiler flags.\n",
      "WARNING:tensorflow:There are non-GPU devices in `tf.distribute.Strategy`, not using nccl allreduce.\n",
      "W0117 10:02:52.906980 4567350720 cross_device_ops.py:1321] There are non-GPU devices in `tf.distribute.Strategy`, not using nccl allreduce.\n",
      "INFO:tensorflow:Using MirroredStrategy with devices ('/job:localhost/replica:0/task:0/device:CPU:0',)\n",
      "I0117 10:02:52.907159 4567350720 mirrored_strategy.py:350] Using MirroredStrategy with devices ('/job:localhost/replica:0/task:0/device:CPU:0',)\n",
      "INFO:tensorflow:Maybe overwriting train_steps: None\n",
      "I0117 10:02:52.912322 4567350720 config_util.py:552] Maybe overwriting train_steps: None\n",
      "INFO:tensorflow:Maybe overwriting use_bfloat16: False\n",
      "I0117 10:02:52.912435 4567350720 config_util.py:552] Maybe overwriting use_bfloat16: False\n",
      "WARNING:tensorflow:From /Users/grubio/Library/Caches/pypoetry/virtualenvs/image-detection-Qwt-hqOz-py3.8/lib/python3.8/site-packages/object_detection/model_lib_v2.py:522: StrategyBase.experimental_distribute_datasets_from_function (from tensorflow.python.distribute.distribute_lib) is deprecated and will be removed in a future version.\n",
      "Instructions for updating:\n",
      "rename to distribute_datasets_from_function\n",
      "W0117 10:02:52.944792 4567350720 deprecation.py:333] From /Users/grubio/Library/Caches/pypoetry/virtualenvs/image-detection-Qwt-hqOz-py3.8/lib/python3.8/site-packages/object_detection/model_lib_v2.py:522: StrategyBase.experimental_distribute_datasets_from_function (from tensorflow.python.distribute.distribute_lib) is deprecated and will be removed in a future version.\n",
      "Instructions for updating:\n",
      "rename to distribute_datasets_from_function\n",
      "Traceback (most recent call last):\n",
      "  File \"/Users/grubio/Downloads/image/multiple-image-detection/models/research/object_detection//model_main_tf2.py\", line 115, in <module>\n",
      "    tf.compat.v1.app.run()\n",
      "  File \"/Users/grubio/Library/Caches/pypoetry/virtualenvs/image-detection-Qwt-hqOz-py3.8/lib/python3.8/site-packages/tensorflow/python/platform/app.py\", line 40, in run\n",
      "    _run(main=main, argv=argv, flags_parser=_parse_flags_tolerate_undef)\n",
      "  File \"/Users/grubio/Library/Caches/pypoetry/virtualenvs/image-detection-Qwt-hqOz-py3.8/lib/python3.8/site-packages/absl/app.py\", line 303, in run\n",
      "    _run_main(main, args)\n",
      "  File \"/Users/grubio/Library/Caches/pypoetry/virtualenvs/image-detection-Qwt-hqOz-py3.8/lib/python3.8/site-packages/absl/app.py\", line 251, in _run_main\n",
      "    sys.exit(main(argv))\n",
      "  File \"/Users/grubio/Downloads/image/multiple-image-detection/models/research/object_detection//model_main_tf2.py\", line 106, in main\n",
      "    model_lib_v2.train_loop(\n",
      "  File \"/Users/grubio/Library/Caches/pypoetry/virtualenvs/image-detection-Qwt-hqOz-py3.8/lib/python3.8/site-packages/object_detection/model_lib_v2.py\", line 522, in train_loop\n",
      "    train_input = strategy.experimental_distribute_datasets_from_function(\n",
      "  File \"/Users/grubio/Library/Caches/pypoetry/virtualenvs/image-detection-Qwt-hqOz-py3.8/lib/python3.8/site-packages/tensorflow/python/util/deprecation.py\", line 340, in new_func\n",
      "    return func(*args, **kwargs)\n",
      "  File \"/Users/grubio/Library/Caches/pypoetry/virtualenvs/image-detection-Qwt-hqOz-py3.8/lib/python3.8/site-packages/tensorflow/python/distribute/distribute_lib.py\", line 1143, in experimental_distribute_datasets_from_function\n",
      "    return self.distribute_datasets_from_function(dataset_fn, options)\n",
      "  File \"/Users/grubio/Library/Caches/pypoetry/virtualenvs/image-detection-Qwt-hqOz-py3.8/lib/python3.8/site-packages/tensorflow/python/distribute/distribute_lib.py\", line 1134, in distribute_datasets_from_function\n",
      "    return self._extended._distribute_datasets_from_function(  # pylint: disable=protected-access\n",
      "  File \"/Users/grubio/Library/Caches/pypoetry/virtualenvs/image-detection-Qwt-hqOz-py3.8/lib/python3.8/site-packages/tensorflow/python/distribute/mirrored_strategy.py\", line 545, in _distribute_datasets_from_function\n",
      "    return input_lib.get_distributed_datasets_from_function(\n",
      "  File \"/Users/grubio/Library/Caches/pypoetry/virtualenvs/image-detection-Qwt-hqOz-py3.8/lib/python3.8/site-packages/tensorflow/python/distribute/input_lib.py\", line 161, in get_distributed_datasets_from_function\n",
      "    return DistributedDatasetsFromFunction(dataset_fn, input_workers,\n",
      "  File \"/Users/grubio/Library/Caches/pypoetry/virtualenvs/image-detection-Qwt-hqOz-py3.8/lib/python3.8/site-packages/tensorflow/python/distribute/input_lib.py\", line 1272, in __init__\n",
      "    _create_datasets_from_function_with_input_context(\n",
      "  File \"/Users/grubio/Library/Caches/pypoetry/virtualenvs/image-detection-Qwt-hqOz-py3.8/lib/python3.8/site-packages/tensorflow/python/distribute/input_lib.py\", line 1936, in _create_datasets_from_function_with_input_context\n",
      "    dataset = dataset_fn(ctx)\n",
      "  File \"/Users/grubio/Library/Caches/pypoetry/virtualenvs/image-detection-Qwt-hqOz-py3.8/lib/python3.8/site-packages/object_detection/model_lib_v2.py\", line 513, in train_dataset_fn\n",
      "    train_input = inputs.train_input(\n",
      "  File \"/Users/grubio/Library/Caches/pypoetry/virtualenvs/image-detection-Qwt-hqOz-py3.8/lib/python3.8/site-packages/object_detection/inputs.py\", line 870, in train_input\n",
      "    dataset = INPUT_BUILDER_UTIL_MAP['dataset_build'](\n",
      "  File \"/Users/grubio/Library/Caches/pypoetry/virtualenvs/image-detection-Qwt-hqOz-py3.8/lib/python3.8/site-packages/object_detection/builders/dataset_builder.py\", line 195, in build\n",
      "    decoder = decoder_builder.build(input_reader_config)\n",
      "  File \"/Users/grubio/Library/Caches/pypoetry/virtualenvs/image-detection-Qwt-hqOz-py3.8/lib/python3.8/site-packages/object_detection/builders/decoder_builder.py\", line 52, in build\n",
      "    decoder = tf_example_decoder.TfExampleDecoder(\n",
      "  File \"/Users/grubio/Library/Caches/pypoetry/virtualenvs/image-detection-Qwt-hqOz-py3.8/lib/python3.8/site-packages/object_detection/data_decoders/tf_example_decoder.py\", line 391, in __init__\n",
      "    _ClassTensorHandler(\n",
      "  File \"/Users/grubio/Library/Caches/pypoetry/virtualenvs/image-detection-Qwt-hqOz-py3.8/lib/python3.8/site-packages/object_detection/data_decoders/tf_example_decoder.py\", line 88, in __init__\n",
      "    name_to_id = label_map_util.get_label_map_dict(\n",
      "  File \"/Users/grubio/Library/Caches/pypoetry/virtualenvs/image-detection-Qwt-hqOz-py3.8/lib/python3.8/site-packages/object_detection/utils/label_map_util.py\", line 201, in get_label_map_dict\n",
      "    label_map = load_labelmap(label_map_path_or_proto)\n",
      "  File \"/Users/grubio/Library/Caches/pypoetry/virtualenvs/image-detection-Qwt-hqOz-py3.8/lib/python3.8/site-packages/object_detection/utils/label_map_util.py\", line 168, in load_labelmap\n",
      "    label_map_string = fid.read()\n",
      "  File \"/Users/grubio/Library/Caches/pypoetry/virtualenvs/image-detection-Qwt-hqOz-py3.8/lib/python3.8/site-packages/tensorflow/python/lib/io/file_io.py\", line 117, in read\n",
      "    self._preread_check()\n",
      "  File \"/Users/grubio/Library/Caches/pypoetry/virtualenvs/image-detection-Qwt-hqOz-py3.8/lib/python3.8/site-packages/tensorflow/python/lib/io/file_io.py\", line 79, in _preread_check\n",
      "    self._read_buf = _pywrap_file_io.BufferedInputStream(\n",
      "tensorflow.python.framework.errors_impl.NotFoundError: /root/object_detection//object_detection/trainning/maps.pbtxt; No such file or directory\n"
     ]
    }
   ],
   "source": [
    "!TF_FORCE_GPU_ALLOW_GROWTH=true python $PROJECT_ROOT_PATH/model_main_tf2.py —logtostderr --model_dir $PROJECT_ROOT_PATH/trainning/models/ssd_resnet50_v1_fpn_640x640_coco17_tpu-8/ --pipeline_config_path $PROJECT_ROOT_PATH/trainning/$PIPELINE_CONFIG_FILE --checkpoint_dir=$PROJECT_ROOT_PATH/trainning/models/$MODEL --sample_1_of_n_eval_examples="
   ]
  },
  {
   "cell_type": "code",
   "execution_count": null,
   "metadata": {},
   "outputs": [],
   "source": [
    "!python .\\exporter_main_v2.py --input_type image_tensor --pipeline_config_path .\\models\\my_efficientdet_d1\\pipeline.config --trained_checkpoint_dir $PROJECT_ROOT_PATH/trainning/models/ssd_resnet50_v1_fpn_640x640_coco17_tpu-8 --output_directory $PROJECT_ROOT_PATH/trainning/models/$MODEL\n"
   ]
  },
  {
   "cell_type": "code",
   "execution_count": null,
   "metadata": {},
   "outputs": [],
   "source": [
    "!aws s3 sync /root/object_detection/object_detection/trainning/models s3://detectssss/trainning/13-jan/"
   ]
  }
 ],
 "metadata": {
  "kernelspec": {
   "display_name": "Python 3",
   "language": "python",
   "name": "python3"
  },
  "language_info": {
   "codemirror_mode": {
    "name": "ipython",
    "version": 3
   },
   "file_extension": ".py",
   "mimetype": "text/x-python",
   "name": "python",
   "nbconvert_exporter": "python",
   "pygments_lexer": "ipython3",
   "version": "3.8.3-final"
  }
 },
 "nbformat": 4,
 "nbformat_minor": 4
}