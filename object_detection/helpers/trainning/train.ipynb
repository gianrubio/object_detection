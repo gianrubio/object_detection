{
 "cells": [
  {
   "cell_type": "code",
   "execution_count": 14,
   "metadata": {},
   "outputs": [
    {
     "output_type": "stream",
     "name": "stdout",
     "text": [
      "env: PROJECT_ROOT_PATH=/Users/grubio/Downloads/image/multiple-image-detection/models/research/object_detection/\nenv: MODEL=faster_rcnn_inception_resnet_v2_640x640_coco17_tpu-8\nenv: PIPELINE_CONFIG_FILE=pipeline_faster_rcnn_inception_resnet_v2_640x640_coco17_tpu-8.config\n"
     ]
    }
   ],
   "source": [
    "%env PROJECT_ROOT_PATH=/Users/grubio/Downloads/image/multiple-image-detection/models/research/object_detection/\n",
    "# %env PROJECT_ROOT_PATH=/root/object_detection/object_detection/\n",
    "# %env MODEL=ssd_resnet50_v1_fpn_640x640_coco17_tpu-8\n",
    "# %env PIPELINE_CONFIG_FILE=pipeline_ssd_resnet50_v1_fpn_640x640_coco17_tpu-8.config\n",
    "%env MODEL=faster_rcnn_inception_resnet_v2_640x640_coco17_tpu-8\n",
    "%env PIPELINE_CONFIG_FILE=pipeline_faster_rcnn_inception_resnet_v2_640x640_coco17_tpu-8.config\n"
   ]
  },
  {
   "cell_type": "code",
   "execution_count": 3,
   "metadata": {
    "collapsed": true
   },
   "outputs": [
    {
     "output_type": "execute_result",
     "data": {
      "text/plain": [
       "[name: \"/device:CPU:0\"\n",
       " device_type: \"CPU\"\n",
       " memory_limit: 268435456\n",
       " locality {\n",
       " }\n",
       " incarnation: 8604438981048929421]"
      ]
     },
     "metadata": {},
     "execution_count": 3
    }
   ],
   "source": [
    "from tensorflow.python.client import device_lib\n",
    "\n",
    "device_lib.list_local_devices()"
   ]
  },
  {
   "cell_type": "code",
   "execution_count": null,
   "metadata": {},
   "outputs": [],
   "source": [
    "# Coco trainning\n",
    "!python $PROJECT_ROOT_PATH/create_coco_tf_record.py --logtostderr --train_image_dir=$PROJECT_ROOT_PATH/trainning/images/train --test_image_dir=$PROJECT_ROOT_PATH/trainning/images/test --train_annotations_file=images/train.json --test_annotations_file=images/test.json --include_masks=True --output_dir=./\n"
   ]
  },
  {
   "cell_type": "code",
   "execution_count": 16,
   "metadata": {
    "tags": []
   },
   "outputs": [
    {
     "output_type": "stream",
     "name": "stdout",
     "text": [
      "2021-01-12 14:49:02.549146: I tensorflow/compiler/jit/xla_cpu_device.cc:41] Not creating XLA devices, tf_xla_enable_xla_devices not set\n",
      "2021-01-12 14:49:02.549484: I tensorflow/core/platform/cpu_feature_guard.cc:142] This TensorFlow binary is optimized with oneAPI Deep Neural Network Library (oneDNN) to use the following CPU instructions in performance-critical operations:  AVX2 FMA\n",
      "To enable them in other operations, rebuild TensorFlow with the appropriate compiler flags.\n",
      "WARNING:tensorflow:There are non-GPU devices in `tf.distribute.Strategy`, not using nccl allreduce.\n",
      "W0112 14:49:02.550262 4670287296 cross_device_ops.py:1321] There are non-GPU devices in `tf.distribute.Strategy`, not using nccl allreduce.\n",
      "INFO:tensorflow:Using MirroredStrategy with devices ('/job:localhost/replica:0/task:0/device:CPU:0',)\n",
      "I0112 14:49:02.550431 4670287296 mirrored_strategy.py:350] Using MirroredStrategy with devices ('/job:localhost/replica:0/task:0/device:CPU:0',)\n",
      "INFO:tensorflow:Maybe overwriting train_steps: None\n",
      "I0112 14:49:02.554406 4670287296 config_util.py:552] Maybe overwriting train_steps: None\n",
      "INFO:tensorflow:Maybe overwriting use_bfloat16: False\n",
      "I0112 14:49:02.554499 4670287296 config_util.py:552] Maybe overwriting use_bfloat16: False\n",
      "WARNING:tensorflow:From /Library/Frameworks/Python.framework/Versions/3.8/lib/python3.8/site-packages/object_detection/model_lib_v2.py:522: StrategyBase.experimental_distribute_datasets_from_function (from tensorflow.python.distribute.distribute_lib) is deprecated and will be removed in a future version.\n",
      "Instructions for updating:\n",
      "rename to distribute_datasets_from_function\n",
      "W0112 14:49:02.597265 4670287296 deprecation.py:333] From /Library/Frameworks/Python.framework/Versions/3.8/lib/python3.8/site-packages/object_detection/model_lib_v2.py:522: StrategyBase.experimental_distribute_datasets_from_function (from tensorflow.python.distribute.distribute_lib) is deprecated and will be removed in a future version.\n",
      "Instructions for updating:\n",
      "rename to distribute_datasets_from_function\n",
      "INFO:tensorflow:Reading unweighted datasets: ['/Users/grubio/Downloads/image/multiple-image-detection/models/research/object_detection/trainning/assets/train.record']\n",
      "I0112 14:49:02.605143 4670287296 dataset_builder.py:148] Reading unweighted datasets: ['/Users/grubio/Downloads/image/multiple-image-detection/models/research/object_detection/trainning/assets/train.record']\n",
      "INFO:tensorflow:Reading record datasets for input file: ['/Users/grubio/Downloads/image/multiple-image-detection/models/research/object_detection/trainning/assets/train.record']\n",
      "I0112 14:49:02.605324 4670287296 dataset_builder.py:77] Reading record datasets for input file: ['/Users/grubio/Downloads/image/multiple-image-detection/models/research/object_detection/trainning/assets/train.record']\n",
      "INFO:tensorflow:Number of filenames to read: 1\n",
      "I0112 14:49:02.605382 4670287296 dataset_builder.py:78] Number of filenames to read: 1\n",
      "WARNING:tensorflow:num_readers has been reduced to 1 to match input file shards.\n",
      "W0112 14:49:02.605430 4670287296 dataset_builder.py:85] num_readers has been reduced to 1 to match input file shards.\n",
      "WARNING:tensorflow:From /Library/Frameworks/Python.framework/Versions/3.8/lib/python3.8/site-packages/object_detection/builders/dataset_builder.py:99: parallel_interleave (from tensorflow.python.data.experimental.ops.interleave_ops) is deprecated and will be removed in a future version.\n",
      "Instructions for updating:\n",
      "Use `tf.data.Dataset.interleave(map_func, cycle_length, block_length, num_parallel_calls=tf.data.AUTOTUNE)` instead. If sloppy execution is desired, use `tf.data.Options.experimental_deterministic`.\n",
      "W0112 14:49:02.607823 4670287296 deprecation.py:333] From /Library/Frameworks/Python.framework/Versions/3.8/lib/python3.8/site-packages/object_detection/builders/dataset_builder.py:99: parallel_interleave (from tensorflow.python.data.experimental.ops.interleave_ops) is deprecated and will be removed in a future version.\n",
      "Instructions for updating:\n",
      "Use `tf.data.Dataset.interleave(map_func, cycle_length, block_length, num_parallel_calls=tf.data.AUTOTUNE)` instead. If sloppy execution is desired, use `tf.data.Options.experimental_deterministic`.\n",
      "WARNING:tensorflow:From /Library/Frameworks/Python.framework/Versions/3.8/lib/python3.8/site-packages/object_detection/builders/dataset_builder.py:221: DatasetV1.map_with_legacy_function (from tensorflow.python.data.ops.dataset_ops) is deprecated and will be removed in a future version.\n",
      "Instructions for updating:\n",
      "Use `tf.data.Dataset.map()\n",
      "W0112 14:49:02.634186 4670287296 deprecation.py:333] From /Library/Frameworks/Python.framework/Versions/3.8/lib/python3.8/site-packages/object_detection/builders/dataset_builder.py:221: DatasetV1.map_with_legacy_function (from tensorflow.python.data.ops.dataset_ops) is deprecated and will be removed in a future version.\n",
      "Instructions for updating:\n",
      "Use `tf.data.Dataset.map()\n",
      "WARNING:tensorflow:From /Library/Frameworks/Python.framework/Versions/3.8/lib/python3.8/site-packages/object_detection/data_decoders/tf_example_decoder.py:724: calling map_fn (from tensorflow.python.ops.map_fn) with dtype is deprecated and will be removed in a future version.\n",
      "Instructions for updating:\n",
      "Use fn_output_signature instead\n",
      "W0112 14:49:04.226610 4670287296 deprecation.py:531] From /Library/Frameworks/Python.framework/Versions/3.8/lib/python3.8/site-packages/object_detection/data_decoders/tf_example_decoder.py:724: calling map_fn (from tensorflow.python.ops.map_fn) with dtype is deprecated and will be removed in a future version.\n",
      "Instructions for updating:\n",
      "Use fn_output_signature instead\n",
      "WARNING:tensorflow:From /Library/Frameworks/Python.framework/Versions/3.8/lib/python3.8/site-packages/tensorflow/python/util/dispatch.py:201: sparse_to_dense (from tensorflow.python.ops.sparse_ops) is deprecated and will be removed in a future version.\n",
      "Instructions for updating:\n",
      "Create a `tf.sparse.SparseTensor` and use `tf.sparse.to_dense` instead.\n",
      "W0112 14:49:09.689905 4670287296 deprecation.py:333] From /Library/Frameworks/Python.framework/Versions/3.8/lib/python3.8/site-packages/tensorflow/python/util/dispatch.py:201: sparse_to_dense (from tensorflow.python.ops.sparse_ops) is deprecated and will be removed in a future version.\n",
      "Instructions for updating:\n",
      "Create a `tf.sparse.SparseTensor` and use `tf.sparse.to_dense` instead.\n",
      "WARNING:tensorflow:From /Library/Frameworks/Python.framework/Versions/3.8/lib/python3.8/site-packages/object_detection/inputs.py:281: to_float (from tensorflow.python.ops.math_ops) is deprecated and will be removed in a future version.\n",
      "Instructions for updating:\n",
      "Use `tf.cast` instead.\n",
      "W0112 14:49:12.261642 4670287296 deprecation.py:333] From /Library/Frameworks/Python.framework/Versions/3.8/lib/python3.8/site-packages/object_detection/inputs.py:281: to_float (from tensorflow.python.ops.math_ops) is deprecated and will be removed in a future version.\n",
      "Instructions for updating:\n",
      "Use `tf.cast` instead.\n",
      "2021-01-12 14:49:14.972186: I tensorflow/compiler/mlir/mlir_graph_optimization_pass.cc:116] None of the MLIR optimization passes are enabled (registered 2)\n",
      "Traceback (most recent call last):\n",
      "  File \"/Library/Frameworks/Python.framework/Versions/3.8/lib/python3.8/site-packages/tensorflow/python/eager/context.py\", line 2113, in execution_mode\n",
      "    yield\n",
      "  File \"/Library/Frameworks/Python.framework/Versions/3.8/lib/python3.8/site-packages/tensorflow/python/data/ops/iterator_ops.py\", line 730, in _next_internal\n",
      "    ret = gen_dataset_ops.iterator_get_next(\n",
      "  File \"/Library/Frameworks/Python.framework/Versions/3.8/lib/python3.8/site-packages/tensorflow/python/ops/gen_dataset_ops.py\", line 2579, in iterator_get_next\n",
      "    _ops.raise_from_not_ok_status(e, name)\n",
      "  File \"/Library/Frameworks/Python.framework/Versions/3.8/lib/python3.8/site-packages/tensorflow/python/framework/ops.py\", line 6862, in raise_from_not_ok_status\n",
      "    six.raise_from(core._status_to_exception(e.code, message), None)\n",
      "  File \"<string>\", line 3, in raise_from\n",
      "tensorflow.python.framework.errors_impl.InvalidArgumentError: indices[0] = 0 is not in [0, 0)\n",
      "\t [[{{node GatherV2_7}}]]\n",
      "\t [[MultiDeviceIteratorGetNextFromShard]]\n",
      "\t [[RemoteCall]] [Op:IteratorGetNext]\n",
      "\n",
      "During handling of the above exception, another exception occurred:\n",
      "\n",
      "Traceback (most recent call last):\n",
      "  File \"/Users/grubio/Downloads/image/multiple-image-detection/models/research/object_detection//model_main_tf2.py\", line 115, in <module>\n",
      "    tf.compat.v1.app.run()\n",
      "  File \"/Library/Frameworks/Python.framework/Versions/3.8/lib/python3.8/site-packages/tensorflow/python/platform/app.py\", line 40, in run\n",
      "    _run(main=main, argv=argv, flags_parser=_parse_flags_tolerate_undef)\n",
      "  File \"/Library/Frameworks/Python.framework/Versions/3.8/lib/python3.8/site-packages/absl/app.py\", line 300, in run\n",
      "    _run_main(main, args)\n",
      "  File \"/Library/Frameworks/Python.framework/Versions/3.8/lib/python3.8/site-packages/absl/app.py\", line 251, in _run_main\n",
      "    sys.exit(main(argv))\n",
      "  File \"/Users/grubio/Downloads/image/multiple-image-detection/models/research/object_detection//model_main_tf2.py\", line 106, in main\n",
      "    model_lib_v2.train_loop(\n",
      "  File \"/Library/Frameworks/Python.framework/Versions/3.8/lib/python3.8/site-packages/object_detection/model_lib_v2.py\", line 561, in train_loop\n",
      "    load_fine_tune_checkpoint(detection_model,\n",
      "  File \"/Library/Frameworks/Python.framework/Versions/3.8/lib/python3.8/site-packages/object_detection/model_lib_v2.py\", line 344, in load_fine_tune_checkpoint\n",
      "    features, labels = iter(input_dataset).next()\n",
      "  File \"/Library/Frameworks/Python.framework/Versions/3.8/lib/python3.8/site-packages/tensorflow/python/distribute/input_lib.py\", line 628, in next\n",
      "    return self.__next__()\n",
      "  File \"/Library/Frameworks/Python.framework/Versions/3.8/lib/python3.8/site-packages/tensorflow/python/distribute/input_lib.py\", line 632, in __next__\n",
      "    return self.get_next()\n",
      "  File \"/Library/Frameworks/Python.framework/Versions/3.8/lib/python3.8/site-packages/tensorflow/python/distribute/input_lib.py\", line 663, in get_next\n",
      "    self._iterators[i].get_next_as_list_static_shapes(new_name))\n",
      "  File \"/Library/Frameworks/Python.framework/Versions/3.8/lib/python3.8/site-packages/tensorflow/python/distribute/input_lib.py\", line 1619, in get_next_as_list_static_shapes\n",
      "    return self._format_data_list_with_options(self._iterator.get_next())\n",
      "  File \"/Library/Frameworks/Python.framework/Versions/3.8/lib/python3.8/site-packages/tensorflow/python/data/ops/multi_device_iterator_ops.py\", line 585, in get_next\n",
      "    result.append(self._device_iterators[i].get_next())\n",
      "  File \"/Library/Frameworks/Python.framework/Versions/3.8/lib/python3.8/site-packages/tensorflow/python/data/ops/iterator_ops.py\", line 800, in get_next\n",
      "    return self._next_internal()\n",
      "  File \"/Library/Frameworks/Python.framework/Versions/3.8/lib/python3.8/site-packages/tensorflow/python/data/ops/iterator_ops.py\", line 739, in _next_internal\n",
      "    return structure.from_compatible_tensor_list(self._element_spec, ret)\n",
      "  File \"/Library/Frameworks/Python.framework/Versions/3.8/lib/python3.8/contextlib.py\", line 131, in __exit__\n",
      "    self.gen.throw(type, value, traceback)\n",
      "  File \"/Library/Frameworks/Python.framework/Versions/3.8/lib/python3.8/site-packages/tensorflow/python/eager/context.py\", line 2116, in execution_mode\n",
      "    executor_new.wait()\n",
      "  File \"/Library/Frameworks/Python.framework/Versions/3.8/lib/python3.8/site-packages/tensorflow/python/eager/executor.py\", line 69, in wait\n",
      "    pywrap_tfe.TFE_ExecutorWaitForAllPendingNodes(self._handle)\n",
      "tensorflow.python.framework.errors_impl.InvalidArgumentError: indices[0] = 0 is not in [0, 0)\n",
      "\t [[{{node GatherV2_7}}]]\n",
      "\t [[MultiDeviceIteratorGetNextFromShard]]\n",
      "\t [[RemoteCall]]\n"
     ]
    }
   ],
   "source": [
    "!TF_FORCE_GPU_ALLOW_GROWTH=true python $PROJECT_ROOT_PATH/model_main_tf2.py —logtostderr --model_dir $PROJECT_ROOT_PATH/trainning/models --pipeline_config_path $PROJECT_ROOT_PATH/trainning/$PIPELINE_CONFIG_FILE"
   ]
  },
  {
   "cell_type": "code",
   "execution_count": 2,
   "metadata": {},
   "outputs": [
    {
     "name": "stdout",
     "output_type": "stream",
     "text": [
      "delete: s3://detectssss/trainning/ckpt-18.data-00000-of-00001\n",
      "delete: s3://detectssss/trainning/ckpt-19.data-00000-of-00001  \n",
      "delete: s3://detectssss/trainning/ckpt-18.index                \n",
      "delete: s3://detectssss/trainning/ckpt-20.index                \n",
      "delete: s3://detectssss/trainning/ckpt-19.index                \n",
      "upload: ../object_detection/object_detection/trainning/ckpt-26.index to s3://detectssss/trainning/ckpt-26.index\n",
      "upload: ../object_detection/object_detection/trainning/checkpoint to s3://detectssss/trainning/checkpoint\n",
      "delete: s3://detectssss/trainning/ckpt-20.data-00000-of-00001    \n",
      "upload: ../object_detection/object_detection/trainning/ckpt-25.index to s3://detectssss/trainning/ckpt-25.index\n",
      "upload: ../object_detection/object_detection/trainning/ckpt-27.index to s3://detectssss/trainning/ckpt-27.index\n",
      "upload: ../object_detection/object_detection/trainning/ckpt-25.data-00000-of-00001 to s3://detectssss/trainning/ckpt-25.data-00000-of-00001\n",
      "upload: ../object_detection/object_detection/trainning/ckpt-26.data-00000-of-00001 to s3://detectssss/trainning/ckpt-26.data-00000-of-00001\n",
      "upload: ../object_detection/object_detection/trainning/ckpt-27.data-00000-of-00001 to s3://detectssss/trainning/ckpt-27.data-00000-of-00001\n",
      "upload: ../object_detection/object_detection/trainning/train/events.out.tfevents.1610275658.1152e2ef76c2.948.1570.v2 to s3://detectssss/trainning/train/events.out.tfevents.1610275658.1152e2ef76c2.948.1570.v2\n"
     ]
    }
   ],
   "source": [
    "!aws s3 sync /root/object_detection/object_detection/trainning/models s3://detectssss/trainning/$(date +%s)"
   ]
  },
  {
   "cell_type": "code",
   "execution_count": null,
   "metadata": {},
   "outputs": [],
   "source": []
  }
 ],
 "metadata": {
  "kernelspec": {
   "display_name": "Python 3",
   "language": "python",
   "name": "python3"
  },
  "language_info": {
   "codemirror_mode": {
    "name": "ipython",
    "version": 3
   },
   "file_extension": ".py",
   "mimetype": "text/x-python",
   "name": "python",
   "nbconvert_exporter": "python",
   "pygments_lexer": "ipython3",
   "version": "3.8.3-final"
  }
 },
 "nbformat": 4,
 "nbformat_minor": 4
}