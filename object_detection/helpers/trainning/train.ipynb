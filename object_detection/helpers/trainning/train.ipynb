{
 "cells": [
  {
   "cell_type": "code",
   "execution_count": 40,
   "metadata": {},
   "outputs": [
    {
     "output_type": "stream",
     "name": "stdout",
     "text": [
      "env: PROJECT_ROOT_PATH=/Users/grubio/Downloads/image/multiple-image-detection/models/research/object_detection\nenv: MODEL=faster_rcnn_inception_resnet_v2_640x640_coco17_tpu-8\nenv: PIPELINE_CONFIG_FILE=pipeline_faster_rcnn_inception_resnet_v2_640x640_coco17_tpu-8.config\n"
     ]
    }
   ],
   "source": [
    "%env PROJECT_ROOT_PATH=${HOME}/object_detection/object_detection\n",
    "%env PIPELINE_CONFIG_FILE=pipeline_faster_rcnn_inception_resnet_v2_640x640_coco17_tpu-8.config"
   ]
  },
  {
   "cell_type": "code",
   "execution_count": 2,
   "metadata": {
    "collapsed": true
   },
   "outputs": [
    {
     "output_type": "execute_result",
     "data": {
      "text/plain": [
       "[name: \"/device:CPU:0\"\n",
       " device_type: \"CPU\"\n",
       " memory_limit: 268435456\n",
       " locality {\n",
       " }\n",
       " incarnation: 377935090597837789]"
      ]
     },
     "metadata": {},
     "execution_count": 2
    }
   ],
   "source": [
    "from tensorflow.python.client import device_lib\n",
    "\n",
    "device_lib.list_local_devices()"
   ]
  },
  {
   "cell_type": "code",
   "execution_count": 48,
   "metadata": {},
   "outputs": [
    {
     "output_type": "stream",
     "name": "stdout",
     "text": [
      "2021-01-10 18:22:34.909919: I tensorflow/compiler/jit/xla_cpu_device.cc:41] Not creating XLA devices, tf_xla_enable_xla_devices not set\n",
      "2021-01-10 18:22:34.910438: I tensorflow/core/platform/cpu_feature_guard.cc:142] This TensorFlow binary is optimized with oneAPI Deep Neural Network Library (oneDNN) to use the following CPU instructions in performance-critical operations:  AVX2 FMA\n",
      "To enable them in other operations, rebuild TensorFlow with the appropriate compiler flags.\n",
      "WARNING:tensorflow:There are non-GPU devices in `tf.distribute.Strategy`, not using nccl allreduce.\n",
      "W0110 18:22:34.911156 4674338240 cross_device_ops.py:1321] There are non-GPU devices in `tf.distribute.Strategy`, not using nccl allreduce.\n",
      "INFO:tensorflow:Using MirroredStrategy with devices ('/job:localhost/replica:0/task:0/device:CPU:0',)\n",
      "I0110 18:22:34.911329 4674338240 mirrored_strategy.py:350] Using MirroredStrategy with devices ('/job:localhost/replica:0/task:0/device:CPU:0',)\n",
      "INFO:tensorflow:Maybe overwriting train_steps: None\n",
      "I0110 18:22:34.915042 4674338240 config_util.py:552] Maybe overwriting train_steps: None\n",
      "INFO:tensorflow:Maybe overwriting use_bfloat16: False\n",
      "I0110 18:22:34.915151 4674338240 config_util.py:552] Maybe overwriting use_bfloat16: False\n",
      "WARNING:tensorflow:From /Users/grubio/Library/Caches/pypoetry/virtualenvs/image-detection-Qwt-hqOz-py3.8/lib/python3.8/site-packages/object_detection/model_lib_v2.py:522: StrategyBase.experimental_distribute_datasets_from_function (from tensorflow.python.distribute.distribute_lib) is deprecated and will be removed in a future version.\n",
      "Instructions for updating:\n",
      "rename to distribute_datasets_from_function\n",
      "W0110 18:22:34.952345 4674338240 deprecation.py:333] From /Users/grubio/Library/Caches/pypoetry/virtualenvs/image-detection-Qwt-hqOz-py3.8/lib/python3.8/site-packages/object_detection/model_lib_v2.py:522: StrategyBase.experimental_distribute_datasets_from_function (from tensorflow.python.distribute.distribute_lib) is deprecated and will be removed in a future version.\n",
      "Instructions for updating:\n",
      "rename to distribute_datasets_from_function\n",
      "Traceback (most recent call last):\n",
      "  File \"/Users/grubio/Downloads/image/multiple-image-detection/models/research/object_detection/model_main_tf2.py\", line 113, in <module>\n",
      "    tf.compat.v1.app.run()\n",
      "  File \"/Users/grubio/Library/Caches/pypoetry/virtualenvs/image-detection-Qwt-hqOz-py3.8/lib/python3.8/site-packages/tensorflow/python/platform/app.py\", line 40, in run\n",
      "    _run(main=main, argv=argv, flags_parser=_parse_flags_tolerate_undef)\n",
      "  File \"/Users/grubio/Library/Caches/pypoetry/virtualenvs/image-detection-Qwt-hqOz-py3.8/lib/python3.8/site-packages/absl/app.py\", line 303, in run\n",
      "    _run_main(main, args)\n",
      "  File \"/Users/grubio/Library/Caches/pypoetry/virtualenvs/image-detection-Qwt-hqOz-py3.8/lib/python3.8/site-packages/absl/app.py\", line 251, in _run_main\n",
      "    sys.exit(main(argv))\n",
      "  File \"/Users/grubio/Downloads/image/multiple-image-detection/models/research/object_detection/model_main_tf2.py\", line 104, in main\n",
      "    model_lib_v2.train_loop(\n",
      "  File \"/Users/grubio/Library/Caches/pypoetry/virtualenvs/image-detection-Qwt-hqOz-py3.8/lib/python3.8/site-packages/object_detection/model_lib_v2.py\", line 522, in train_loop\n",
      "    train_input = strategy.experimental_distribute_datasets_from_function(\n",
      "  File \"/Users/grubio/Library/Caches/pypoetry/virtualenvs/image-detection-Qwt-hqOz-py3.8/lib/python3.8/site-packages/tensorflow/python/util/deprecation.py\", line 340, in new_func\n",
      "    return func(*args, **kwargs)\n",
      "  File \"/Users/grubio/Library/Caches/pypoetry/virtualenvs/image-detection-Qwt-hqOz-py3.8/lib/python3.8/site-packages/tensorflow/python/distribute/distribute_lib.py\", line 1143, in experimental_distribute_datasets_from_function\n",
      "    return self.distribute_datasets_from_function(dataset_fn, options)\n",
      "  File \"/Users/grubio/Library/Caches/pypoetry/virtualenvs/image-detection-Qwt-hqOz-py3.8/lib/python3.8/site-packages/tensorflow/python/distribute/distribute_lib.py\", line 1134, in distribute_datasets_from_function\n",
      "    return self._extended._distribute_datasets_from_function(  # pylint: disable=protected-access\n",
      "  File \"/Users/grubio/Library/Caches/pypoetry/virtualenvs/image-detection-Qwt-hqOz-py3.8/lib/python3.8/site-packages/tensorflow/python/distribute/mirrored_strategy.py\", line 545, in _distribute_datasets_from_function\n",
      "    return input_lib.get_distributed_datasets_from_function(\n",
      "  File \"/Users/grubio/Library/Caches/pypoetry/virtualenvs/image-detection-Qwt-hqOz-py3.8/lib/python3.8/site-packages/tensorflow/python/distribute/input_lib.py\", line 161, in get_distributed_datasets_from_function\n",
      "    return DistributedDatasetsFromFunction(dataset_fn, input_workers,\n",
      "  File \"/Users/grubio/Library/Caches/pypoetry/virtualenvs/image-detection-Qwt-hqOz-py3.8/lib/python3.8/site-packages/tensorflow/python/distribute/input_lib.py\", line 1272, in __init__\n",
      "    _create_datasets_from_function_with_input_context(\n",
      "  File \"/Users/grubio/Library/Caches/pypoetry/virtualenvs/image-detection-Qwt-hqOz-py3.8/lib/python3.8/site-packages/tensorflow/python/distribute/input_lib.py\", line 1936, in _create_datasets_from_function_with_input_context\n",
      "    dataset = dataset_fn(ctx)\n",
      "  File \"/Users/grubio/Library/Caches/pypoetry/virtualenvs/image-detection-Qwt-hqOz-py3.8/lib/python3.8/site-packages/object_detection/model_lib_v2.py\", line 513, in train_dataset_fn\n",
      "    train_input = inputs.train_input(\n",
      "  File \"/Users/grubio/Library/Caches/pypoetry/virtualenvs/image-detection-Qwt-hqOz-py3.8/lib/python3.8/site-packages/object_detection/inputs.py\", line 870, in train_input\n",
      "    dataset = INPUT_BUILDER_UTIL_MAP['dataset_build'](\n",
      "  File \"/Users/grubio/Library/Caches/pypoetry/virtualenvs/image-detection-Qwt-hqOz-py3.8/lib/python3.8/site-packages/object_detection/builders/dataset_builder.py\", line 195, in build\n",
      "    decoder = decoder_builder.build(input_reader_config)\n",
      "  File \"/Users/grubio/Library/Caches/pypoetry/virtualenvs/image-detection-Qwt-hqOz-py3.8/lib/python3.8/site-packages/object_detection/builders/decoder_builder.py\", line 52, in build\n",
      "    decoder = tf_example_decoder.TfExampleDecoder(\n",
      "  File \"/Users/grubio/Library/Caches/pypoetry/virtualenvs/image-detection-Qwt-hqOz-py3.8/lib/python3.8/site-packages/object_detection/data_decoders/tf_example_decoder.py\", line 391, in __init__\n",
      "    _ClassTensorHandler(\n",
      "  File \"/Users/grubio/Library/Caches/pypoetry/virtualenvs/image-detection-Qwt-hqOz-py3.8/lib/python3.8/site-packages/object_detection/data_decoders/tf_example_decoder.py\", line 88, in __init__\n",
      "    name_to_id = label_map_util.get_label_map_dict(\n",
      "  File \"/Users/grubio/Library/Caches/pypoetry/virtualenvs/image-detection-Qwt-hqOz-py3.8/lib/python3.8/site-packages/object_detection/utils/label_map_util.py\", line 201, in get_label_map_dict\n",
      "    label_map = load_labelmap(label_map_path_or_proto)\n",
      "  File \"/Users/grubio/Library/Caches/pypoetry/virtualenvs/image-detection-Qwt-hqOz-py3.8/lib/python3.8/site-packages/object_detection/utils/label_map_util.py\", line 168, in load_labelmap\n",
      "    label_map_string = fid.read()\n",
      "  File \"/Users/grubio/Library/Caches/pypoetry/virtualenvs/image-detection-Qwt-hqOz-py3.8/lib/python3.8/site-packages/tensorflow/python/lib/io/file_io.py\", line 117, in read\n",
      "    self._preread_check()\n",
      "  File \"/Users/grubio/Library/Caches/pypoetry/virtualenvs/image-detection-Qwt-hqOz-py3.8/lib/python3.8/site-packages/tensorflow/python/lib/io/file_io.py\", line 79, in _preread_check\n",
      "    self._read_buf = _pywrap_file_io.BufferedInputStream(\n",
      "tensorflow.python.framework.errors_impl.NotFoundError: ~/object_detection/trainning/maps.pbtxt; No such file or directory\n"
     ]
    }
   ],
   "source": [
    "TF_FORCE_GPU_ALLOW_GROWTH=true python $PROJECT_ROOT_PATH/model_main_tf2.py —logtostderr --model_dir $PROJECT_ROOT_PATH/trainning/models --pipeline_config_path $PROJECT_ROOT_PATH/trainning/$PIPELINE_CONFIG_FILE"
   ]
  },
  {
   "cell_type": "code",
   "execution_count": 46,
   "metadata": {
    "collapsed": true
   },
   "outputs": [],
   "source": [
    "# ! python /object_detection/object_detection/exporter_main_v2.py  --input_type image_tensor --pipeline_config_path /object_detection/object_detection/trainning/pipeline.config --trained_checkpoint_dir /object_detection/object_detection/trainning/ --output_directory /object_detection/object_detection/trainning/exported-model/\n"
   ]
  },
  {
   "cell_type": "code",
   "execution_count": 2,
   "metadata": {},
   "outputs": [
    {
     "name": "stdout",
     "output_type": "stream",
     "text": [
      "delete: s3://detectssss/trainning/ckpt-18.data-00000-of-00001\n",
      "delete: s3://detectssss/trainning/ckpt-19.data-00000-of-00001  \n",
      "delete: s3://detectssss/trainning/ckpt-18.index                \n",
      "delete: s3://detectssss/trainning/ckpt-20.index                \n",
      "delete: s3://detectssss/trainning/ckpt-19.index                \n",
      "upload: ../object_detection/object_detection/trainning/ckpt-26.index to s3://detectssss/trainning/ckpt-26.index\n",
      "upload: ../object_detection/object_detection/trainning/checkpoint to s3://detectssss/trainning/checkpoint\n",
      "delete: s3://detectssss/trainning/ckpt-20.data-00000-of-00001    \n",
      "upload: ../object_detection/object_detection/trainning/ckpt-25.index to s3://detectssss/trainning/ckpt-25.index\n",
      "upload: ../object_detection/object_detection/trainning/ckpt-27.index to s3://detectssss/trainning/ckpt-27.index\n",
      "upload: ../object_detection/object_detection/trainning/ckpt-25.data-00000-of-00001 to s3://detectssss/trainning/ckpt-25.data-00000-of-00001\n",
      "upload: ../object_detection/object_detection/trainning/ckpt-26.data-00000-of-00001 to s3://detectssss/trainning/ckpt-26.data-00000-of-00001\n",
      "upload: ../object_detection/object_detection/trainning/ckpt-27.data-00000-of-00001 to s3://detectssss/trainning/ckpt-27.data-00000-of-00001\n",
      "upload: ../object_detection/object_detection/trainning/train/events.out.tfevents.1610275658.1152e2ef76c2.948.1570.v2 to s3://detectssss/trainning/train/events.out.tfevents.1610275658.1152e2ef76c2.948.1570.v2\n"
     ]
    }
   ],
   "source": [
    "! aws s3 sync --delete /object_detection/object_detection/trainning  s3://detectssss/trainning/10-jan-02"
   ]
  },
  {
   "cell_type": "code",
   "execution_count": null,
   "metadata": {},
   "outputs": [],
   "source": []
  }
 ],
 "metadata": {
  "kernelspec": {
   "display_name": "Python 3",
   "language": "python",
   "name": "python3"
  },
  "language_info": {
   "codemirror_mode": {
    "name": "ipython",
    "version": 3
   },
   "file_extension": ".py",
   "mimetype": "text/x-python",
   "name": "python",
   "nbconvert_exporter": "python",
   "pygments_lexer": "ipython3",
   "version": "3.8.3-final"
  }
 },
 "nbformat": 4,
 "nbformat_minor": 4
}